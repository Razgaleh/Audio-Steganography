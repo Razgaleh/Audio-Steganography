{
 "cells": [
  {
   "attachments": {},
   "cell_type": "markdown",
   "metadata": {},
   "source": [
    "# Decode Least Significant Bit Encoding\n"
   ]
  },
  {
   "cell_type": "markdown",
   "metadata": {},
   "source": [
    "To decode the least significant bit encoding, first, we open the file as a wave then we convert the audio file into bytes using bytearray() function, then, extract the least significant bits and later join them together into an string. Here we make sure to take out unnecessary filler strings and then we output the code: "
   ]
  },
  {
   "cell_type": "code",
   "execution_count": 1,
   "metadata": {},
   "outputs": [
    {
     "name": "stdout",
     "output_type": "stream",
     "text": [
      "Sucessfully decoded: Mom I will not be home for supper\n"
     ]
    }
   ],
   "source": [
    "# Copied from https://sumit-arora.medium.com/audio-steganography-the-art-of-hiding-secrets-within-earshot-part-2-of-2-c76b1be719b3\n",
    "# change the input and fully understood the code \n",
    "# Use wave package (native to Python) for reading the received audio file\n",
    "import wave\n",
    "song = wave.open(\"./sounds/Ex3_sound1.wav\", mode='rb')\n",
    "\n",
    "# Here we convert the audio to byte array first \n",
    "frame_bytes = bytearray(list(song.readframes(song.getnframes())))\n",
    "\n",
    "# Then we find the least significant bit\n",
    "extracted = [frame_bytes[i] & 1 for i in range(len(frame_bytes))]\n",
    "# Converting byte array back to string\n",
    "string = \"\".join(chr(int(\"\".join(map(str,extracted[i:i+8])),2)) for i in range(0,len(extracted),8))\n",
    "\n",
    "# Here we take out the filler strings\n",
    "decoded = string.split(\"###\")[0]\n",
    "\n",
    "# Print the extracted text\n",
    "print(\"Sucessfully decoded: \"+decoded)\n",
    "song.close()"
   ]
  }
 ],
 "metadata": {
  "kernelspec": {
   "display_name": "Python 3",
   "language": "python",
   "name": "python3"
  },
  "language_info": {
   "codemirror_mode": {
    "name": "ipython",
    "version": 3
   },
   "file_extension": ".py",
   "mimetype": "text/x-python",
   "name": "python",
   "nbconvert_exporter": "python",
   "pygments_lexer": "ipython3",
   "version": "3.11.3"
  },
  "orig_nbformat": 4
 },
 "nbformat": 4,
 "nbformat_minor": 2
}
